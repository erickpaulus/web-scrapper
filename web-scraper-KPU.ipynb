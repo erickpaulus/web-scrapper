{
 "cells": [
  {
   "cell_type": "code",
   "execution_count": 18,
   "id": "b5d95a92-853d-48bb-93ac-a0f032f3ad7e",
   "metadata": {
    "tags": []
   },
   "outputs": [
    {
     "name": "stdout",
     "output_type": "stream",
     "text": [
      "Requirement already satisfied: selenium in c:\\users\\ep\\anaconda3\\lib\\site-packages (4.17.2)\n",
      "Requirement already satisfied: beautifulsoup4 in c:\\users\\ep\\anaconda3\\lib\\site-packages (4.12.2)\n",
      "Requirement already satisfied: urllib3[socks]<3,>=1.26 in c:\\users\\ep\\anaconda3\\lib\\site-packages (from selenium) (1.26.16)\n",
      "Requirement already satisfied: trio~=0.17 in c:\\users\\ep\\anaconda3\\lib\\site-packages (from selenium) (0.24.0)\n",
      "Requirement already satisfied: trio-websocket~=0.9 in c:\\users\\ep\\anaconda3\\lib\\site-packages (from selenium) (0.11.1)\n",
      "Requirement already satisfied: certifi>=2021.10.8 in c:\\users\\ep\\anaconda3\\lib\\site-packages (from selenium) (2023.7.22)\n",
      "Requirement already satisfied: typing_extensions>=4.9.0 in c:\\users\\ep\\anaconda3\\lib\\site-packages (from selenium) (4.9.0)\n",
      "Requirement already satisfied: soupsieve>1.2 in c:\\users\\ep\\anaconda3\\lib\\site-packages (from beautifulsoup4) (2.4)\n",
      "Requirement already satisfied: attrs>=20.1.0 in c:\\users\\ep\\anaconda3\\lib\\site-packages (from trio~=0.17->selenium) (22.1.0)\n",
      "Requirement already satisfied: sortedcontainers in c:\\users\\ep\\anaconda3\\lib\\site-packages (from trio~=0.17->selenium) (2.4.0)\n",
      "Requirement already satisfied: idna in c:\\users\\ep\\anaconda3\\lib\\site-packages (from trio~=0.17->selenium) (3.4)\n",
      "Requirement already satisfied: outcome in c:\\users\\ep\\anaconda3\\lib\\site-packages (from trio~=0.17->selenium) (1.3.0.post0)\n",
      "Requirement already satisfied: sniffio>=1.3.0 in c:\\users\\ep\\anaconda3\\lib\\site-packages (from trio~=0.17->selenium) (1.3.0)\n",
      "Requirement already satisfied: cffi>=1.14 in c:\\users\\ep\\anaconda3\\lib\\site-packages (from trio~=0.17->selenium) (1.15.1)\n",
      "Requirement already satisfied: wsproto>=0.14 in c:\\users\\ep\\anaconda3\\lib\\site-packages (from trio-websocket~=0.9->selenium) (1.2.0)\n",
      "Requirement already satisfied: PySocks!=1.5.7,<2.0,>=1.5.6 in c:\\users\\ep\\anaconda3\\lib\\site-packages (from urllib3[socks]<3,>=1.26->selenium) (1.7.1)\n",
      "Requirement already satisfied: pycparser in c:\\users\\ep\\anaconda3\\lib\\site-packages (from cffi>=1.14->trio~=0.17->selenium) (2.21)\n",
      "Requirement already satisfied: h11<1,>=0.9.0 in c:\\users\\ep\\anaconda3\\lib\\site-packages (from wsproto>=0.14->trio-websocket~=0.9->selenium) (0.14.0)\n"
     ]
    }
   ],
   "source": [
    "# selenium web scraping python libraries\n",
    "! pip install selenium beautifulsoup4"
   ]
  },
  {
   "cell_type": "code",
   "execution_count": 19,
   "id": "7a14b1cb-486c-4949-ae9f-a99164e44897",
   "metadata": {
    "tags": []
   },
   "outputs": [],
   "source": [
    "# selenium web scraping python imports\n",
    "import re\n",
    "from selenium import webdriver\n",
    "from selenium.webdriver.chrome.service import Service\n",
    "from bs4 import BeautifulSoup\n",
    "from time import sleep\n",
    "from random import randint"
   ]
  },
  {
   "cell_type": "code",
   "execution_count": 22,
   "id": "54fc72b0-f3cb-4a69-bf43-187f3ea1b6e2",
   "metadata": {
    "tags": []
   },
   "outputs": [],
   "source": [
    "# navigate to page with chromedriver and selenium python\n",
    "chromedriver_path = \"C:\\\\Users\\\\ep\\\\Downloads\\\\chromedriver-win64\\\\chromedriver-win64\\\\chromedriver.exe\"\n",
    "service = Service(chromedriver_path)\n",
    "driver = webdriver.Chrome(service=service)\n",
    " \n",
    "url = 'https://opendata.kpu.go.id/dataset/0505ea34a-1b907068f-2ad414d90-17ce4'\n",
    "driver.get(url)\n",
    "sleep(randint(3, 5))"
   ]
  },
  {
   "cell_type": "code",
   "execution_count": 23,
   "id": "81fdf28a-9fb6-43a4-b6e0-9596077a30de",
   "metadata": {
    "tags": []
   },
   "outputs": [
    {
     "name": "stdout",
     "output_type": "stream",
     "text": [
      "/infographics\n",
      "https://jdih.kpu.go.id\n",
      "/search\n",
      "/search?theme=Pencalonan\n",
      "https://opendata.kpu.go.id/sites/default/files/files/f2226c60d947a48a6629727dc4a8e46b.csv\n",
      "/about\n",
      "https://opendata.kpu.go.id/sites/default/files/files/35afb3e8a69332657993ccae81b86260.csv\n",
      "/search?keyword=pemilu\n",
      "https://ppid.kpu.go.id\n",
      "https://opendata.kpu.go.id/sites/default/files/files/e03392b19581f721eb4e7beb0f7838fa.csv\n",
      "https://data.go.id/\n",
      "/topics\n",
      "/\n",
      "https://www.instagram.com/kpu_ri/\n",
      "https://twitter.com/kpu_id\n",
      "https://www.facebook.com/KPURepublikIndonesia/\n",
      "/dataset/0505ea34a-1b907068f-2ad414d90-17ce4/api\n",
      "https://opendata.kpu.go.id/sites/default/files/files/2ae62c1856c68cf8f8bec8f77d04e235.csv\n",
      "/search?keyword=2019\n",
      "https://kpu.go.id\n",
      "/search?keyword=Caleg%20DPR%20RI\n",
      "https://opendata.kpu.go.id/sites/default/files/files/4da3913e990d08ddaf483d5c6a4412e2.csv\n"
     ]
    }
   ],
   "source": [
    "# get links using beautiful soup 4\n",
    "soup = BeautifulSoup(driver.page_source, 'html.parser')\n",
    "driver.quit()\n",
    " \n",
    "links = soup.find_all(\"a\")\n",
    "top10 = set()\n",
    "for link in links:\n",
    "    top10.add(link.get(\"href\"))\n",
    "for link in top10:\n",
    "    print(link)"
   ]
  },
  {
   "cell_type": "code",
   "execution_count": null,
   "id": "f23b3fca-b171-4ca6-8848-b56c748b84e4",
   "metadata": {},
   "outputs": [],
   "source": []
  }
 ],
 "metadata": {
  "kernelspec": {
   "display_name": "Python 3 (ipykernel)",
   "language": "python",
   "name": "python3"
  },
  "language_info": {
   "codemirror_mode": {
    "name": "ipython",
    "version": 3
   },
   "file_extension": ".py",
   "mimetype": "text/x-python",
   "name": "python",
   "nbconvert_exporter": "python",
   "pygments_lexer": "ipython3",
   "version": "3.11.5"
  }
 },
 "nbformat": 4,
 "nbformat_minor": 5
}
